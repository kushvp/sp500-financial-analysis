{
 "cells": [
  {
   "cell_type": "code",
   "execution_count": 15,
   "id": "8daa95f9",
   "metadata": {},
   "outputs": [],
   "source": [
    "import yfinance\n",
    "from bs4 import BeautifulSoup\n",
    "import requests"
   ]
  },
  {
   "cell_type": "code",
   "execution_count": 16,
   "id": "f0f18762",
   "metadata": {},
   "outputs": [],
   "source": [
    "url = 'https://www.slickcharts.com/sp500'\n",
    "response = requests.get(url)\n",
    "\n",
    "html = response.content\n"
   ]
  },
  {
   "cell_type": "code",
   "execution_count": 17,
   "id": "416093bf",
   "metadata": {},
   "outputs": [],
   "source": [
    "soup = BeautifulSoup(html, 'html.parser')\n"
   ]
  }
 ],
 "metadata": {
  "kernelspec": {
   "display_name": "Python 3 (ipykernel)",
   "language": "python",
   "name": "python3"
  },
  "language_info": {
   "codemirror_mode": {
    "name": "ipython",
    "version": 3
   },
   "file_extension": ".py",
   "mimetype": "text/x-python",
   "name": "python",
   "nbconvert_exporter": "python",
   "pygments_lexer": "ipython3",
   "version": "3.9.13"
  }
 },
 "nbformat": 4,
 "nbformat_minor": 5
}
